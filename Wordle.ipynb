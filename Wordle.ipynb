{
 "cells": [
  {
   "cell_type": "code",
   "execution_count": 2,
   "id": "4ec055e3",
   "metadata": {},
   "outputs": [
    {
     "name": "stdout",
     "output_type": "stream",
     "text": [
      "abuse\n"
     ]
    }
   ],
   "source": [
    "import random\n",
    "from tkinter import *\n",
    "from tkinter import messagebox\n",
    "from PIL import ImageTk,Image\n",
    "WORDS = (\"first\", \"place\",\"adult\",\"adopt\",\"feast\",\"beach\",\"basis\",\"abuse\",\"agent\",\"fuzzy\",\"pizza\",\"onion\",\"coral\",\"fleet\",\"glide\",\"quilt\",\"train\",\"unity\",\"virus\",\"wrist\")\n",
    "word = random.choice(WORDS)\n",
    "#print(word)\n",
    "Green=\"#15a32b\"\n",
    "Yellow=\"#ded52c\"\n",
    "Gray=\"#a19c8d\"\n",
    "Black=\"#262624\"\n",
    "root=Tk()\n",
    "root.title(\"WORDLE\")\n",
    "root.config(bg=Black)\n",
    "loop=1\n",
    "wordInput=Entry(root)\n",
    "wordInput.grid(row=999,column=0,padx=5,pady=5,columnspan=3)\n",
    "def getGuess():\n",
    "    global word,loop\n",
    "    guess=wordInput.get()\n",
    "    loop+=1\n",
    "    if loop<=6:\n",
    "        if len(guess)==5:\n",
    "            if word==guess:\n",
    "                global img\n",
    "                top=Toplevel()\n",
    "                top.title(\"RESULT\")\n",
    "                img=ImageTk.PhotoImage(Image.open(\"C:\\\\Users\\\\Akshitha\\\\Downloads\\\\congrats.png\"))\n",
    "                my_label=Label(top,image=img).pack()\n",
    "                msg=\"Ur Guess is right..Word is \"+word.title().upper()\n",
    "                Label(top,text=msg).pack()\n",
    "                #messagebox.showinfo(\"RESULT\",f\"Correct word is {word.title().upper()}\")\n",
    "            else:\n",
    "                for i, letter in enumerate(guess):\n",
    "                    label=Label(root,text=letter.upper(),height=3,width=6,font=25)\n",
    "                    label.grid(row=loop,column=i,padx=3,pady=3)\n",
    "                    if letter==word[i]:\n",
    "                        label.config(bg=Green,fg=Black)\n",
    "                    if letter in word and not letter==word[i]:\n",
    "                        label.config(bg=Yellow,fg=Black)\n",
    "                    if letter not in word:\n",
    "                        label.config(bg=Gray,fg=Black)\n",
    "\n",
    "        else:\n",
    "            messagebox.showerror(\"ERROR\",\"Please enter a 5 letter WORD....\")\n",
    "        \n",
    "    else:\n",
    "        messagebox.showerror(\"RESULT\",f\"GAME OVER!\\nThe word was {word.title().upper()}\")\n",
    "guessbutton=Button(root,text=\"Guess a word\",bg=Gray,comman=getGuess)\n",
    "guessbutton.grid(row=999,column=3,padx=5,pady=5,columnspan=2)\n",
    "root.mainloop()"
   ]
  },
  {
   "cell_type": "code",
   "execution_count": null,
   "id": "06d7f196",
   "metadata": {},
   "outputs": [],
   "source": []
  }
 ],
 "metadata": {
  "kernelspec": {
   "display_name": "Python 3",
   "language": "python",
   "name": "python3"
  },
  "language_info": {
   "codemirror_mode": {
    "name": "ipython",
    "version": 3
   },
   "file_extension": ".py",
   "mimetype": "text/x-python",
   "name": "python",
   "nbconvert_exporter": "python",
   "pygments_lexer": "ipython3",
   "version": "3.8.8"
  }
 },
 "nbformat": 4,
 "nbformat_minor": 5
}
